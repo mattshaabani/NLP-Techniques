{
 "cells": [
  {
   "cell_type": "code",
   "execution_count": 1,
   "id": "f992ca6f-5c75-49e1-9f2a-fbea762bc143",
   "metadata": {},
   "outputs": [],
   "source": [
    "paragraph = '''Messi relocated to Spain and joined Barcelona aged 13, making his competitive debut at age 17 in October 2004. He established himself as an integral player for the club within the next three years, and in his first uninterrupted season in 2008–09 helped Barcelona achieve the first treble in Spanish football; that year, aged 22, Messi won his first Ballon d'Or. Messi won four consecutive Ballons d'Or, the first player to win it four times. During the 2011–12 season, he set La Liga and European records for most goals in a season, while establishing himself as Barcelona's all-time top scorer. The following two seasons, he finished second for the Ballon d'Or behind Cristiano Ronaldo, his perceived career rival, before regaining his best form during the 2014–15 campaign, becoming the all-time top scorer in La Liga and leading Barcelona to a historic second treble, and was awarded a fifth Ballon d'Or in 2015. Messi assumed captaincy of Barcelona in 2018, and won a record sixth Ballon d'Or in 2019. He signed for French club Paris Saint-Germain in August 2021, spending two seasons there and winning Ligue 1 twice. Messi joined American club Inter Miami in July 2023, winning the Leagues Cup in August.'''"
   ]
  },
  {
   "cell_type": "code",
   "execution_count": 2,
   "id": "d10be6e6-632a-4fb6-9f16-bca70921d9eb",
   "metadata": {},
   "outputs": [
    {
     "data": {
      "text/plain": [
       "\"Messi relocated to Spain and joined Barcelona aged 13, making his competitive debut at age 17 in October 2004. He established himself as an integral player for the club within the next three years, and in his first uninterrupted season in 2008–09 helped Barcelona achieve the first treble in Spanish football; that year, aged 22, Messi won his first Ballon d'Or. Messi won four consecutive Ballons d'Or, the first player to win it four times. During the 2011–12 season, he set La Liga and European records for most goals in a season, while establishing himself as Barcelona's all-time top scorer. The following two seasons, he finished second for the Ballon d'Or behind Cristiano Ronaldo, his perceived career rival, before regaining his best form during the 2014–15 campaign, becoming the all-time top scorer in La Liga and leading Barcelona to a historic second treble, and was awarded a fifth Ballon d'Or in 2015. Messi assumed captaincy of Barcelona in 2018, and won a record sixth Ballon d'Or in 2019. He signed for French club Paris Saint-Germain in August 2021, spending two seasons there and winning Ligue 1 twice. Messi joined American club Inter Miami in July 2023, winning the Leagues Cup in August.\""
      ]
     },
     "execution_count": 2,
     "metadata": {},
     "output_type": "execute_result"
    }
   ],
   "source": [
    "paragraph"
   ]
  },
  {
   "cell_type": "code",
   "execution_count": 3,
   "id": "45a73277-d27c-4917-91dc-bad817aebaf0",
   "metadata": {},
   "outputs": [],
   "source": [
    "import nltk"
   ]
  },
  {
   "cell_type": "code",
   "execution_count": 4,
   "id": "58abc456-fd04-41b6-9e80-d4765124cf5a",
   "metadata": {},
   "outputs": [],
   "source": [
    "from nltk.stem import PorterStemmer\n",
    "from nltk.corpus import stopwords"
   ]
  },
  {
   "cell_type": "markdown",
   "id": "042a8532-ec64-49e0-8c27-8f7dd0a0b591",
   "metadata": {},
   "source": [
    "## Tokenization\n",
    "##### paragraph\n",
    "##### sentences\n",
    "##### words"
   ]
  },
  {
   "cell_type": "code",
   "execution_count": 5,
   "id": "5053f29f-2707-4fa2-a47e-20c8b1be27ea",
   "metadata": {},
   "outputs": [
    {
     "name": "stderr",
     "output_type": "stream",
     "text": [
      "[nltk_data] Downloading package punkt to C:\\Users\\Dear\n",
      "[nltk_data]     User\\AppData\\Roaming\\nltk_data...\n",
      "[nltk_data]   Package punkt is already up-to-date!\n"
     ]
    }
   ],
   "source": [
    "nltk.download('punkt')\n",
    "sentences = nltk.sent_tokenize(paragraph)"
   ]
  },
  {
   "cell_type": "code",
   "execution_count": 6,
   "id": "6b68d2d5-a18d-4223-812e-3d1afd4efe53",
   "metadata": {},
   "outputs": [
    {
     "data": {
      "text/plain": [
       "['Messi relocated to Spain and joined Barcelona aged 13, making his competitive debut at age 17 in October 2004.',\n",
       " \"He established himself as an integral player for the club within the next three years, and in his first uninterrupted season in 2008–09 helped Barcelona achieve the first treble in Spanish football; that year, aged 22, Messi won his first Ballon d'Or.\",\n",
       " \"Messi won four consecutive Ballons d'Or, the first player to win it four times.\",\n",
       " \"During the 2011–12 season, he set La Liga and European records for most goals in a season, while establishing himself as Barcelona's all-time top scorer.\",\n",
       " \"The following two seasons, he finished second for the Ballon d'Or behind Cristiano Ronaldo, his perceived career rival, before regaining his best form during the 2014–15 campaign, becoming the all-time top scorer in La Liga and leading Barcelona to a historic second treble, and was awarded a fifth Ballon d'Or in 2015.\",\n",
       " \"Messi assumed captaincy of Barcelona in 2018, and won a record sixth Ballon d'Or in 2019.\",\n",
       " 'He signed for French club Paris Saint-Germain in August 2021, spending two seasons there and winning Ligue 1 twice.',\n",
       " 'Messi joined American club Inter Miami in July 2023, winning the Leagues Cup in August.']"
      ]
     },
     "execution_count": 6,
     "metadata": {},
     "output_type": "execute_result"
    }
   ],
   "source": [
    "sentences"
   ]
  },
  {
   "cell_type": "code",
   "execution_count": 7,
   "id": "807c1015-e983-494d-aee3-18b51cf65fc8",
   "metadata": {},
   "outputs": [],
   "source": [
    "stemmer = PorterStemmer()"
   ]
  },
  {
   "cell_type": "code",
   "execution_count": 8,
   "id": "9789f50e-8731-44b8-845a-8c3855e32c5f",
   "metadata": {},
   "outputs": [
    {
     "data": {
      "text/plain": [
       "'go'"
      ]
     },
     "execution_count": 8,
     "metadata": {},
     "output_type": "execute_result"
    }
   ],
   "source": [
    "stemmer.stem('going')"
   ]
  },
  {
   "cell_type": "code",
   "execution_count": 9,
   "id": "8c94ff7c-5388-405f-a34b-d14416a534a6",
   "metadata": {},
   "outputs": [
    {
     "data": {
      "text/plain": [
       "'class'"
      ]
     },
     "execution_count": 9,
     "metadata": {},
     "output_type": "execute_result"
    }
   ],
   "source": [
    "stemmer.stem('classes')"
   ]
  },
  {
   "cell_type": "code",
   "execution_count": 10,
   "id": "200d1001-c91a-47b2-9aa3-94013edcdd83",
   "metadata": {},
   "outputs": [],
   "source": [
    "from nltk.stem import WordNetLemmatizer"
   ]
  },
  {
   "cell_type": "code",
   "execution_count": 11,
   "id": "700e9e8a-8de1-4a19-94d2-caa16cd30cb1",
   "metadata": {},
   "outputs": [
    {
     "name": "stderr",
     "output_type": "stream",
     "text": [
      "[nltk_data] Downloading package wordnet to C:\\Users\\Dear\n",
      "[nltk_data]     User\\AppData\\Roaming\\nltk_data...\n",
      "[nltk_data]   Package wordnet is already up-to-date!\n"
     ]
    }
   ],
   "source": [
    "nltk.download('wordnet')\n",
    "lemmatizer = WordNetLemmatizer()"
   ]
  },
  {
   "cell_type": "code",
   "execution_count": 12,
   "id": "0980b745-9308-4703-b0b1-67942c99897d",
   "metadata": {},
   "outputs": [
    {
     "data": {
      "text/plain": [
       "'historically'"
      ]
     },
     "execution_count": 12,
     "metadata": {},
     "output_type": "execute_result"
    }
   ],
   "source": [
    "lemmatizer.lemmatize('historically')"
   ]
  },
  {
   "cell_type": "code",
   "execution_count": 13,
   "id": "cfdce00c-10c2-48b8-ae8d-7479d1b63ea9",
   "metadata": {},
   "outputs": [
    {
     "data": {
      "text/plain": [
       "'historical'"
      ]
     },
     "execution_count": 13,
     "metadata": {},
     "output_type": "execute_result"
    }
   ],
   "source": [
    "lemmatizer.lemmatize('historical')"
   ]
  },
  {
   "cell_type": "code",
   "execution_count": 14,
   "id": "a453a942-29b2-44da-8fe7-ea6649351b54",
   "metadata": {},
   "outputs": [
    {
     "data": {
      "text/plain": [
       "'went'"
      ]
     },
     "execution_count": 14,
     "metadata": {},
     "output_type": "execute_result"
    }
   ],
   "source": [
    "lemmatizer.lemmatize('went')"
   ]
  },
  {
   "cell_type": "code",
   "execution_count": 15,
   "id": "b21e3a00-2370-40c0-bc24-d0b1de5cf8e3",
   "metadata": {},
   "outputs": [
    {
     "data": {
      "text/plain": [
       "'go'"
      ]
     },
     "execution_count": 15,
     "metadata": {},
     "output_type": "execute_result"
    }
   ],
   "source": [
    "lemmatizer.lemmatize('goes')"
   ]
  },
  {
   "cell_type": "code",
   "execution_count": 16,
   "id": "86adaa28-6e4f-4bbf-be28-2acf3059b20f",
   "metadata": {},
   "outputs": [],
   "source": [
    "import re\n",
    "corpus = []"
   ]
  },
  {
   "cell_type": "code",
   "execution_count": 17,
   "id": "4df9f175-be07-42e3-ba98-956f82d5332b",
   "metadata": {},
   "outputs": [],
   "source": [
    "for i in range(len(sentences)):\n",
    "    review = re.sub('[^a-zA-Z]', ' ', sentences[i])\n",
    "    review = review.lower()\n",
    "    corpus.append(review)"
   ]
  },
  {
   "cell_type": "code",
   "execution_count": 18,
   "id": "5ec73e77-879c-4e40-a32f-fd0d7ea73618",
   "metadata": {},
   "outputs": [
    {
     "data": {
      "text/plain": [
       "['messi relocated to spain and joined barcelona aged     making his competitive debut at age    in october      ',\n",
       " 'he established himself as an integral player for the club within the next three years  and in his first uninterrupted season in         helped barcelona achieve the first treble in spanish football  that year  aged     messi won his first ballon d or ',\n",
       " 'messi won four consecutive ballons d or  the first player to win it four times ',\n",
       " 'during the         season  he set la liga and european records for most goals in a season  while establishing himself as barcelona s all time top scorer ',\n",
       " 'the following two seasons  he finished second for the ballon d or behind cristiano ronaldo  his perceived career rival  before regaining his best form during the         campaign  becoming the all time top scorer in la liga and leading barcelona to a historic second treble  and was awarded a fifth ballon d or in      ',\n",
       " 'messi assumed captaincy of barcelona in       and won a record sixth ballon d or in      ',\n",
       " 'he signed for french club paris saint germain in august       spending two seasons there and winning ligue   twice ',\n",
       " 'messi joined american club inter miami in july       winning the leagues cup in august ']"
      ]
     },
     "execution_count": 18,
     "metadata": {},
     "output_type": "execute_result"
    }
   ],
   "source": [
    "corpus"
   ]
  },
  {
   "cell_type": "code",
   "execution_count": 19,
   "id": "2b623523-a96d-42fb-915a-32b1aa578bb4",
   "metadata": {},
   "outputs": [
    {
     "name": "stdout",
     "output_type": "stream",
     "text": [
      "messi\n",
      "reloc\n",
      "spain\n",
      "join\n",
      "barcelona\n",
      "age\n",
      "make\n",
      "competit\n",
      "debut\n",
      "age\n",
      "octob\n",
      "establish\n",
      "integr\n",
      "player\n",
      "club\n",
      "within\n",
      "next\n",
      "three\n",
      "year\n",
      "first\n",
      "uninterrupt\n",
      "season\n",
      "help\n",
      "barcelona\n",
      "achiev\n",
      "first\n",
      "trebl\n",
      "spanish\n",
      "footbal\n",
      "year\n",
      "age\n",
      "messi\n",
      "first\n",
      "ballon\n",
      "messi\n",
      "four\n",
      "consecut\n",
      "ballon\n",
      "first\n",
      "player\n",
      "win\n",
      "four\n",
      "time\n",
      "season\n",
      "set\n",
      "la\n",
      "liga\n",
      "european\n",
      "record\n",
      "goal\n",
      "season\n",
      "establish\n",
      "barcelona\n",
      "time\n",
      "top\n",
      "scorer\n",
      "follow\n",
      "two\n",
      "season\n",
      "finish\n",
      "second\n",
      "ballon\n",
      "behind\n",
      "cristiano\n",
      "ronaldo\n",
      "perceiv\n",
      "career\n",
      "rival\n",
      "regain\n",
      "best\n",
      "form\n",
      "campaign\n",
      "becom\n",
      "time\n",
      "top\n",
      "scorer\n",
      "la\n",
      "liga\n",
      "lead\n",
      "barcelona\n",
      "histor\n",
      "second\n",
      "trebl\n",
      "award\n",
      "fifth\n",
      "ballon\n",
      "messi\n",
      "assum\n",
      "captainci\n",
      "barcelona\n",
      "record\n",
      "sixth\n",
      "ballon\n",
      "sign\n",
      "french\n",
      "club\n",
      "pari\n",
      "saint\n",
      "germain\n",
      "august\n",
      "spend\n",
      "two\n",
      "season\n",
      "win\n",
      "ligu\n",
      "twice\n",
      "messi\n",
      "join\n",
      "american\n",
      "club\n",
      "inter\n",
      "miami\n",
      "juli\n",
      "win\n",
      "leagu\n",
      "cup\n",
      "august\n"
     ]
    }
   ],
   "source": [
    "for i in corpus:\n",
    "    words = nltk.word_tokenize(i)\n",
    "    for word in words:\n",
    "        if word not in set(stopwords.words('english')):\n",
    "            print(stemmer.stem(word))"
   ]
  },
  {
   "cell_type": "code",
   "execution_count": 20,
   "id": "366f838b-1e1d-4443-acbc-32e32ba7bc14",
   "metadata": {},
   "outputs": [
    {
     "name": "stdout",
     "output_type": "stream",
     "text": [
      "messi\n",
      "relocated\n",
      "spain\n",
      "joined\n",
      "barcelona\n",
      "aged\n",
      "making\n",
      "competitive\n",
      "debut\n",
      "age\n",
      "october\n",
      "established\n",
      "integral\n",
      "player\n",
      "club\n",
      "within\n",
      "next\n",
      "three\n",
      "year\n",
      "first\n",
      "uninterrupted\n",
      "season\n",
      "helped\n",
      "barcelona\n",
      "achieve\n",
      "first\n",
      "treble\n",
      "spanish\n",
      "football\n",
      "year\n",
      "aged\n",
      "messi\n",
      "first\n",
      "ballon\n",
      "messi\n",
      "four\n",
      "consecutive\n",
      "ballons\n",
      "first\n",
      "player\n",
      "win\n",
      "four\n",
      "time\n",
      "season\n",
      "set\n",
      "la\n",
      "liga\n",
      "european\n",
      "record\n",
      "goal\n",
      "season\n",
      "establishing\n",
      "barcelona\n",
      "time\n",
      "top\n",
      "scorer\n",
      "following\n",
      "two\n",
      "season\n",
      "finished\n",
      "second\n",
      "ballon\n",
      "behind\n",
      "cristiano\n",
      "ronaldo\n",
      "perceived\n",
      "career\n",
      "rival\n",
      "regaining\n",
      "best\n",
      "form\n",
      "campaign\n",
      "becoming\n",
      "time\n",
      "top\n",
      "scorer\n",
      "la\n",
      "liga\n",
      "leading\n",
      "barcelona\n",
      "historic\n",
      "second\n",
      "treble\n",
      "awarded\n",
      "fifth\n",
      "ballon\n",
      "messi\n",
      "assumed\n",
      "captaincy\n",
      "barcelona\n",
      "record\n",
      "sixth\n",
      "ballon\n",
      "signed\n",
      "french\n",
      "club\n",
      "paris\n",
      "saint\n",
      "germain\n",
      "august\n",
      "spending\n",
      "two\n",
      "season\n",
      "winning\n",
      "ligue\n",
      "twice\n",
      "messi\n",
      "joined\n",
      "american\n",
      "club\n",
      "inter\n",
      "miami\n",
      "july\n",
      "winning\n",
      "league\n",
      "cup\n",
      "august\n"
     ]
    }
   ],
   "source": [
    "for i in corpus:\n",
    "    words = nltk.word_tokenize(i)\n",
    "    for word in words:\n",
    "        if word not in set(stopwords.words('english')):\n",
    "            print(lemmatizer.lemmatize(word))"
   ]
  },
  {
   "cell_type": "code",
   "execution_count": 26,
   "id": "9cba13ba-0920-4341-bea5-e2b879da6114",
   "metadata": {},
   "outputs": [],
   "source": [
    "# Bag of Words\n",
    "from sklearn.feature_extraction.text import CountVectorizer\n",
    "cv = CountVectorizer(ngram_range=(2,3))"
   ]
  },
  {
   "cell_type": "code",
   "execution_count": 27,
   "id": "1c78973d-6d5b-45e8-b721-c4430b5ab5bf",
   "metadata": {},
   "outputs": [],
   "source": [
    "x = cv.fit_transform(corpus)"
   ]
  },
  {
   "cell_type": "code",
   "execution_count": 28,
   "id": "e33b4c85-8346-4c3c-8f92-d5585e111a30",
   "metadata": {},
   "outputs": [
    {
     "data": {
      "text/plain": [
       "{'messi relocated': 197,\n",
       " 'relocated to': 229,\n",
       " 'to spain': 294,\n",
       " 'spain and': 259,\n",
       " 'and joined': 18,\n",
       " 'joined barcelona': 177,\n",
       " 'barcelona aged': 47,\n",
       " 'aged making': 4,\n",
       " 'making his': 191,\n",
       " 'his competitive': 143,\n",
       " 'competitive debut': 75,\n",
       " 'debut at': 83,\n",
       " 'at age': 34,\n",
       " 'age in': 2,\n",
       " 'in october': 164,\n",
       " 'messi relocated to': 198,\n",
       " 'relocated to spain': 230,\n",
       " 'to spain and': 295,\n",
       " 'spain and joined': 260,\n",
       " 'and joined barcelona': 19,\n",
       " 'joined barcelona aged': 178,\n",
       " 'barcelona aged making': 48,\n",
       " 'aged making his': 5,\n",
       " 'making his competitive': 192,\n",
       " 'his competitive debut': 144,\n",
       " 'competitive debut at': 76,\n",
       " 'debut at age': 84,\n",
       " 'at age in': 35,\n",
       " 'age in october': 3,\n",
       " 'he established': 128,\n",
       " 'established himself': 88,\n",
       " 'himself as': 138,\n",
       " 'as an': 28,\n",
       " 'an integral': 12,\n",
       " 'integral player': 169,\n",
       " 'player for': 219,\n",
       " 'for the': 114,\n",
       " 'the club': 273,\n",
       " 'club within': 73,\n",
       " 'within the': 319,\n",
       " 'the next': 282,\n",
       " 'next three': 206,\n",
       " 'three years': 288,\n",
       " 'years and': 329,\n",
       " 'and in': 16,\n",
       " 'in his': 158,\n",
       " 'his first': 145,\n",
       " 'first uninterrupted': 104,\n",
       " 'uninterrupted season': 307,\n",
       " 'season in': 241,\n",
       " 'in helped': 156,\n",
       " 'helped barcelona': 136,\n",
       " 'barcelona achieve': 45,\n",
       " 'achieve the': 0,\n",
       " 'the first': 275,\n",
       " 'first treble': 102,\n",
       " 'treble in': 302,\n",
       " 'in spanish': 167,\n",
       " 'spanish football': 261,\n",
       " 'football that': 108,\n",
       " 'that year': 265,\n",
       " 'year aged': 327,\n",
       " 'aged messi': 6,\n",
       " 'messi won': 199,\n",
       " 'won his': 323,\n",
       " 'first ballon': 98,\n",
       " 'ballon or': 40,\n",
       " 'he established himself': 129,\n",
       " 'established himself as': 89,\n",
       " 'himself as an': 139,\n",
       " 'as an integral': 29,\n",
       " 'an integral player': 13,\n",
       " 'integral player for': 170,\n",
       " 'player for the': 220,\n",
       " 'for the club': 116,\n",
       " 'the club within': 274,\n",
       " 'club within the': 74,\n",
       " 'within the next': 320,\n",
       " 'the next three': 283,\n",
       " 'next three years': 207,\n",
       " 'three years and': 289,\n",
       " 'years and in': 330,\n",
       " 'and in his': 17,\n",
       " 'in his first': 159,\n",
       " 'his first uninterrupted': 147,\n",
       " 'first uninterrupted season': 105,\n",
       " 'uninterrupted season in': 308,\n",
       " 'season in helped': 242,\n",
       " 'in helped barcelona': 157,\n",
       " 'helped barcelona achieve': 137,\n",
       " 'barcelona achieve the': 46,\n",
       " 'achieve the first': 1,\n",
       " 'the first treble': 277,\n",
       " 'first treble in': 103,\n",
       " 'treble in spanish': 303,\n",
       " 'in spanish football': 168,\n",
       " 'spanish football that': 262,\n",
       " 'football that year': 109,\n",
       " 'that year aged': 266,\n",
       " 'year aged messi': 328,\n",
       " 'aged messi won': 7,\n",
       " 'messi won his': 201,\n",
       " 'won his first': 324,\n",
       " 'his first ballon': 146,\n",
       " 'first ballon or': 99,\n",
       " 'won four': 321,\n",
       " 'four consecutive': 119,\n",
       " 'consecutive ballons': 77,\n",
       " 'ballons or': 43,\n",
       " 'or the': 213,\n",
       " 'first player': 100,\n",
       " 'player to': 221,\n",
       " 'to win': 296,\n",
       " 'win it': 313,\n",
       " 'it four': 173,\n",
       " 'four times': 121,\n",
       " 'messi won four': 200,\n",
       " 'won four consecutive': 322,\n",
       " 'four consecutive ballons': 120,\n",
       " 'consecutive ballons or': 78,\n",
       " 'ballons or the': 44,\n",
       " 'or the first': 214,\n",
       " 'the first player': 276,\n",
       " 'first player to': 101,\n",
       " 'player to win': 222,\n",
       " 'to win it': 297,\n",
       " 'win it four': 314,\n",
       " 'it four times': 174,\n",
       " 'during the': 85,\n",
       " 'the season': 284,\n",
       " 'season he': 239,\n",
       " 'he set': 132,\n",
       " 'set la': 253,\n",
       " 'la liga': 181,\n",
       " 'liga and': 187,\n",
       " 'and european': 14,\n",
       " 'european records': 92,\n",
       " 'records for': 225,\n",
       " 'for most': 112,\n",
       " 'most goals': 204,\n",
       " 'goals in': 126,\n",
       " 'in season': 165,\n",
       " 'season while': 243,\n",
       " 'while establishing': 311,\n",
       " 'establishing himself': 90,\n",
       " 'as barcelona': 30,\n",
       " 'barcelona all': 49,\n",
       " 'all time': 8,\n",
       " 'time top': 290,\n",
       " 'top scorer': 298,\n",
       " 'during the season': 87,\n",
       " 'the season he': 285,\n",
       " 'season he set': 240,\n",
       " 'he set la': 133,\n",
       " 'set la liga': 254,\n",
       " 'la liga and': 182,\n",
       " 'liga and european': 188,\n",
       " 'and european records': 15,\n",
       " 'european records for': 93,\n",
       " 'records for most': 226,\n",
       " 'for most goals': 113,\n",
       " 'most goals in': 205,\n",
       " 'goals in season': 127,\n",
       " 'in season while': 166,\n",
       " 'season while establishing': 244,\n",
       " 'while establishing himself': 312,\n",
       " 'establishing himself as': 91,\n",
       " 'himself as barcelona': 140,\n",
       " 'as barcelona all': 31,\n",
       " 'barcelona all time': 50,\n",
       " 'all time top': 9,\n",
       " 'time top scorer': 291,\n",
       " 'the following': 278,\n",
       " 'following two': 106,\n",
       " 'two seasons': 304,\n",
       " 'seasons he': 245,\n",
       " 'he finished': 130,\n",
       " 'finished second': 96,\n",
       " 'second for': 249,\n",
       " 'the ballon': 269,\n",
       " 'or behind': 210,\n",
       " 'behind cristiano': 59,\n",
       " 'cristiano ronaldo': 79,\n",
       " 'ronaldo his': 233,\n",
       " 'his perceived': 148,\n",
       " 'perceived career': 217,\n",
       " 'career rival': 67,\n",
       " 'rival before': 231,\n",
       " 'before regaining': 57,\n",
       " 'regaining his': 227,\n",
       " 'his best': 141,\n",
       " 'best form': 61,\n",
       " 'form during': 117,\n",
       " 'the campaign': 271,\n",
       " 'campaign becoming': 63,\n",
       " 'becoming the': 55,\n",
       " 'the all': 267,\n",
       " 'scorer in': 237,\n",
       " 'in la': 162,\n",
       " 'and leading': 20,\n",
       " 'leading barcelona': 183,\n",
       " 'barcelona to': 53,\n",
       " 'to historic': 292,\n",
       " 'historic second': 150,\n",
       " 'second treble': 251,\n",
       " 'treble and': 300,\n",
       " 'and was': 22,\n",
       " 'was awarded': 309,\n",
       " 'awarded fifth': 38,\n",
       " 'fifth ballon': 94,\n",
       " 'or in': 212,\n",
       " 'the following two': 279,\n",
       " 'following two seasons': 107,\n",
       " 'two seasons he': 305,\n",
       " 'seasons he finished': 246,\n",
       " 'he finished second': 131,\n",
       " 'finished second for': 97,\n",
       " 'second for the': 250,\n",
       " 'for the ballon': 115,\n",
       " 'the ballon or': 270,\n",
       " 'ballon or behind': 41,\n",
       " 'or behind cristiano': 211,\n",
       " 'behind cristiano ronaldo': 60,\n",
       " 'cristiano ronaldo his': 80,\n",
       " 'ronaldo his perceived': 234,\n",
       " 'his perceived career': 149,\n",
       " 'perceived career rival': 218,\n",
       " 'career rival before': 68,\n",
       " 'rival before regaining': 232,\n",
       " 'before regaining his': 58,\n",
       " 'regaining his best': 228,\n",
       " 'his best form': 142,\n",
       " 'best form during': 62,\n",
       " 'form during the': 118,\n",
       " 'during the campaign': 86,\n",
       " 'the campaign becoming': 272,\n",
       " 'campaign becoming the': 64,\n",
       " 'becoming the all': 56,\n",
       " 'the all time': 268,\n",
       " 'top scorer in': 299,\n",
       " 'scorer in la': 238,\n",
       " 'in la liga': 163,\n",
       " 'liga and leading': 189,\n",
       " 'and leading barcelona': 21,\n",
       " 'leading barcelona to': 184,\n",
       " 'barcelona to historic': 54,\n",
       " 'to historic second': 293,\n",
       " 'historic second treble': 151,\n",
       " 'second treble and': 252,\n",
       " 'treble and was': 301,\n",
       " 'and was awarded': 23,\n",
       " 'was awarded fifth': 310,\n",
       " 'awarded fifth ballon': 39,\n",
       " 'fifth ballon or': 95,\n",
       " 'ballon or in': 42,\n",
       " 'messi assumed': 193,\n",
       " 'assumed captaincy': 32,\n",
       " 'captaincy of': 65,\n",
       " 'of barcelona': 208,\n",
       " 'barcelona in': 51,\n",
       " 'in and': 152,\n",
       " 'and won': 26,\n",
       " 'won record': 325,\n",
       " 'record sixth': 223,\n",
       " 'sixth ballon': 257,\n",
       " 'messi assumed captaincy': 194,\n",
       " 'assumed captaincy of': 33,\n",
       " 'captaincy of barcelona': 66,\n",
       " 'of barcelona in': 209,\n",
       " 'barcelona in and': 52,\n",
       " 'in and won': 153,\n",
       " 'and won record': 27,\n",
       " 'won record sixth': 326,\n",
       " 'record sixth ballon': 224,\n",
       " 'sixth ballon or': 258,\n",
       " 'he signed': 134,\n",
       " 'signed for': 255,\n",
       " 'for french': 110,\n",
       " 'french club': 122,\n",
       " 'club paris': 71,\n",
       " 'paris saint': 215,\n",
       " 'saint germain': 235,\n",
       " 'germain in': 124,\n",
       " 'in august': 154,\n",
       " 'august spending': 36,\n",
       " 'spending two': 263,\n",
       " 'seasons there': 247,\n",
       " 'there and': 286,\n",
       " 'and winning': 24,\n",
       " 'winning ligue': 315,\n",
       " 'ligue twice': 190,\n",
       " 'he signed for': 135,\n",
       " 'signed for french': 256,\n",
       " 'for french club': 111,\n",
       " 'french club paris': 123,\n",
       " 'club paris saint': 72,\n",
       " 'paris saint germain': 216,\n",
       " 'saint germain in': 236,\n",
       " 'germain in august': 125,\n",
       " 'in august spending': 155,\n",
       " 'august spending two': 37,\n",
       " 'spending two seasons': 264,\n",
       " 'two seasons there': 306,\n",
       " 'seasons there and': 248,\n",
       " 'there and winning': 287,\n",
       " 'and winning ligue': 25,\n",
       " 'winning ligue twice': 316,\n",
       " 'messi joined': 195,\n",
       " 'joined american': 175,\n",
       " 'american club': 10,\n",
       " 'club inter': 69,\n",
       " 'inter miami': 171,\n",
       " 'miami in': 202,\n",
       " 'in july': 160,\n",
       " 'july winning': 179,\n",
       " 'winning the': 317,\n",
       " 'the leagues': 280,\n",
       " 'leagues cup': 185,\n",
       " 'cup in': 81,\n",
       " 'messi joined american': 196,\n",
       " 'joined american club': 176,\n",
       " 'american club inter': 11,\n",
       " 'club inter miami': 70,\n",
       " 'inter miami in': 172,\n",
       " 'miami in july': 203,\n",
       " 'in july winning': 161,\n",
       " 'july winning the': 180,\n",
       " 'winning the leagues': 318,\n",
       " 'the leagues cup': 281,\n",
       " 'leagues cup in': 186,\n",
       " 'cup in august': 82}"
      ]
     },
     "execution_count": 28,
     "metadata": {},
     "output_type": "execute_result"
    }
   ],
   "source": [
    "cv.vocabulary_"
   ]
  },
  {
   "cell_type": "code",
   "execution_count": 29,
   "id": "1b82cb42-9368-4dd3-b52a-efd631f69528",
   "metadata": {},
   "outputs": [
    {
     "data": {
      "text/plain": [
       "array([[0, 0, 1, 1, 1, 1, 0, 0, 0, 0, 0, 0, 0, 0, 0, 0, 0, 0, 1, 1, 0, 0,\n",
       "        0, 0, 0, 0, 0, 0, 0, 0, 0, 0, 0, 0, 1, 1, 0, 0, 0, 0, 0, 0, 0, 0,\n",
       "        0, 0, 0, 1, 1, 0, 0, 0, 0, 0, 0, 0, 0, 0, 0, 0, 0, 0, 0, 0, 0, 0,\n",
       "        0, 0, 0, 0, 0, 0, 0, 0, 0, 1, 1, 0, 0, 0, 0, 0, 0, 1, 1, 0, 0, 0,\n",
       "        0, 0, 0, 0, 0, 0, 0, 0, 0, 0, 0, 0, 0, 0, 0, 0, 0, 0, 0, 0, 0, 0,\n",
       "        0, 0, 0, 0, 0, 0, 0, 0, 0, 0, 0, 0, 0, 0, 0, 0, 0, 0, 0, 0, 0, 0,\n",
       "        0, 0, 0, 0, 0, 0, 0, 0, 0, 0, 0, 1, 1, 0, 0, 0, 0, 0, 0, 0, 0, 0,\n",
       "        0, 0, 0, 0, 0, 0, 0, 0, 0, 0, 1, 0, 0, 0, 0, 0, 0, 0, 0, 0, 0, 0,\n",
       "        0, 1, 1, 0, 0, 0, 0, 0, 0, 0, 0, 0, 0, 0, 0, 1, 1, 0, 0, 0, 0, 1,\n",
       "        1, 0, 0, 0, 0, 0, 0, 0, 0, 0, 0, 0, 0, 0, 0, 0, 0, 0, 0, 0, 0, 0,\n",
       "        0, 0, 0, 0, 0, 0, 0, 0, 0, 1, 1, 0, 0, 0, 0, 0, 0, 0, 0, 0, 0, 0,\n",
       "        0, 0, 0, 0, 0, 0, 0, 0, 0, 0, 0, 0, 0, 0, 0, 0, 0, 1, 1, 0, 0, 0,\n",
       "        0, 0, 0, 0, 0, 0, 0, 0, 0, 0, 0, 0, 0, 0, 0, 0, 0, 0, 0, 0, 0, 0,\n",
       "        0, 0, 0, 0, 0, 0, 0, 0, 1, 1, 0, 0, 0, 0, 0, 0, 0, 0, 0, 0, 0, 0,\n",
       "        0, 0, 0, 0, 0, 0, 0, 0, 0, 0, 0, 0, 0, 0, 0, 0, 0, 0, 0, 0, 0, 0,\n",
       "        0]], dtype=int64)"
      ]
     },
     "execution_count": 29,
     "metadata": {},
     "output_type": "execute_result"
    }
   ],
   "source": [
    "x[0].toarray()"
   ]
  },
  {
   "cell_type": "code",
   "execution_count": 49,
   "id": "dc883d0c-3a97-4116-989a-db33e13db29f",
   "metadata": {},
   "outputs": [],
   "source": [
    "## TF-IDF\n",
    "from sklearn.feature_extraction.text import TfidfVectorizer\n",
    "tfidf = TfidfVectorizer(ngram_range=(2, 3))\n",
    "x = tfidf.fit_transform(corpus)"
   ]
  },
  {
   "cell_type": "code",
   "execution_count": 50,
   "id": "9f6a4370-c9da-4cab-a317-c9eed6fda607",
   "metadata": {},
   "outputs": [
    {
     "data": {
      "text/plain": [
       "'messi relocated to spain and joined barcelona aged     making his competitive debut at age    in october      '"
      ]
     },
     "execution_count": 50,
     "metadata": {},
     "output_type": "execute_result"
    }
   ],
   "source": [
    "corpus[0]"
   ]
  },
  {
   "cell_type": "code",
   "execution_count": 51,
   "id": "c7eddf1d-31f0-40c6-a043-c102faf8d170",
   "metadata": {},
   "outputs": [
    {
     "data": {
      "text/plain": [
       "array([[0.        , 0.        , 0.18569534, 0.18569534, 0.18569534,\n",
       "        0.18569534, 0.        , 0.        , 0.        , 0.        ,\n",
       "        0.        , 0.        , 0.        , 0.        , 0.        ,\n",
       "        0.        , 0.        , 0.        , 0.18569534, 0.18569534,\n",
       "        0.        , 0.        , 0.        , 0.        , 0.        ,\n",
       "        0.        , 0.        , 0.        , 0.        , 0.        ,\n",
       "        0.        , 0.        , 0.        , 0.        , 0.18569534,\n",
       "        0.18569534, 0.        , 0.        , 0.        , 0.        ,\n",
       "        0.        , 0.        , 0.        , 0.        , 0.        ,\n",
       "        0.        , 0.        , 0.18569534, 0.18569534, 0.        ,\n",
       "        0.        , 0.        , 0.        , 0.        , 0.        ,\n",
       "        0.        , 0.        , 0.        , 0.        , 0.        ,\n",
       "        0.        , 0.        , 0.        , 0.        , 0.        ,\n",
       "        0.        , 0.        , 0.        , 0.        , 0.        ,\n",
       "        0.        , 0.        , 0.        , 0.        , 0.        ,\n",
       "        0.18569534, 0.18569534, 0.        , 0.        , 0.        ,\n",
       "        0.        , 0.        , 0.        , 0.18569534, 0.18569534,\n",
       "        0.        , 0.        , 0.        , 0.        , 0.        ,\n",
       "        0.        , 0.        , 0.        , 0.        , 0.        ,\n",
       "        0.        , 0.        , 0.        , 0.        , 0.        ,\n",
       "        0.        , 0.        , 0.        , 0.        , 0.        ,\n",
       "        0.        , 0.        , 0.        , 0.        , 0.        ,\n",
       "        0.        , 0.        , 0.        , 0.        , 0.        ,\n",
       "        0.        , 0.        , 0.        , 0.        , 0.        ,\n",
       "        0.        , 0.        , 0.        , 0.        , 0.        ,\n",
       "        0.        , 0.        , 0.        , 0.        , 0.        ,\n",
       "        0.        , 0.        , 0.        , 0.        , 0.        ,\n",
       "        0.        , 0.        , 0.        , 0.        , 0.        ,\n",
       "        0.        , 0.        , 0.        , 0.18569534, 0.18569534,\n",
       "        0.        , 0.        , 0.        , 0.        , 0.        ,\n",
       "        0.        , 0.        , 0.        , 0.        , 0.        ,\n",
       "        0.        , 0.        , 0.        , 0.        , 0.        ,\n",
       "        0.        , 0.        , 0.        , 0.        , 0.18569534,\n",
       "        0.        , 0.        , 0.        , 0.        , 0.        ,\n",
       "        0.        , 0.        , 0.        , 0.        , 0.        ,\n",
       "        0.        , 0.        , 0.18569534, 0.18569534, 0.        ,\n",
       "        0.        , 0.        , 0.        , 0.        , 0.        ,\n",
       "        0.        , 0.        , 0.        , 0.        , 0.        ,\n",
       "        0.        , 0.18569534, 0.18569534, 0.        , 0.        ,\n",
       "        0.        , 0.        , 0.18569534, 0.18569534, 0.        ,\n",
       "        0.        , 0.        , 0.        , 0.        , 0.        ,\n",
       "        0.        , 0.        , 0.        , 0.        , 0.        ,\n",
       "        0.        , 0.        , 0.        , 0.        , 0.        ,\n",
       "        0.        , 0.        , 0.        , 0.        , 0.        ,\n",
       "        0.        , 0.        , 0.        , 0.        , 0.        ,\n",
       "        0.        , 0.        , 0.        , 0.        , 0.18569534,\n",
       "        0.18569534, 0.        , 0.        , 0.        , 0.        ,\n",
       "        0.        , 0.        , 0.        , 0.        , 0.        ,\n",
       "        0.        , 0.        , 0.        , 0.        , 0.        ,\n",
       "        0.        , 0.        , 0.        , 0.        , 0.        ,\n",
       "        0.        , 0.        , 0.        , 0.        , 0.        ,\n",
       "        0.        , 0.        , 0.        , 0.        , 0.18569534,\n",
       "        0.18569534, 0.        , 0.        , 0.        , 0.        ,\n",
       "        0.        , 0.        , 0.        , 0.        , 0.        ,\n",
       "        0.        , 0.        , 0.        , 0.        , 0.        ,\n",
       "        0.        , 0.        , 0.        , 0.        , 0.        ,\n",
       "        0.        , 0.        , 0.        , 0.        , 0.        ,\n",
       "        0.        , 0.        , 0.        , 0.        , 0.        ,\n",
       "        0.        , 0.        , 0.        , 0.        , 0.18569534,\n",
       "        0.18569534, 0.        , 0.        , 0.        , 0.        ,\n",
       "        0.        , 0.        , 0.        , 0.        , 0.        ,\n",
       "        0.        , 0.        , 0.        , 0.        , 0.        ,\n",
       "        0.        , 0.        , 0.        , 0.        , 0.        ,\n",
       "        0.        , 0.        , 0.        , 0.        , 0.        ,\n",
       "        0.        , 0.        , 0.        , 0.        , 0.        ,\n",
       "        0.        , 0.        , 0.        , 0.        , 0.        ,\n",
       "        0.        ]])"
      ]
     },
     "execution_count": 51,
     "metadata": {},
     "output_type": "execute_result"
    }
   ],
   "source": [
    "x[0].toarray()"
   ]
  },
  {
   "cell_type": "code",
   "execution_count": null,
   "id": "e9d96c3a-6932-4f4f-8b4f-f046abc4ce09",
   "metadata": {},
   "outputs": [],
   "source": []
  }
 ],
 "metadata": {
  "kernelspec": {
   "display_name": "Python 3 (ipykernel)",
   "language": "python",
   "name": "python3"
  },
  "language_info": {
   "codemirror_mode": {
    "name": "ipython",
    "version": 3
   },
   "file_extension": ".py",
   "mimetype": "text/x-python",
   "name": "python",
   "nbconvert_exporter": "python",
   "pygments_lexer": "ipython3",
   "version": "3.12.4"
  }
 },
 "nbformat": 4,
 "nbformat_minor": 5
}
